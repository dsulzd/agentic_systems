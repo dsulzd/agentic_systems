{
 "cells": [
  {
   "cell_type": "code",
   "execution_count": 2,
   "id": "c4e68826",
   "metadata": {},
   "outputs": [],
   "source": [
    "from langchain_groq import ChatGroq\n",
    "from dotenv import load_dotenv"
   ]
  },
  {
   "cell_type": "code",
   "execution_count": 3,
   "id": "6dae0014",
   "metadata": {},
   "outputs": [
    {
     "data": {
      "text/plain": [
       "True"
      ]
     },
     "execution_count": 3,
     "metadata": {},
     "output_type": "execute_result"
    }
   ],
   "source": [
    "load_dotenv()"
   ]
  },
  {
   "cell_type": "code",
   "execution_count": null,
   "id": "077fb8d5",
   "metadata": {},
   "outputs": [],
   "source": [
    "def get_profile_content(profile) -> str:\n",
    "    \"\"\" Get Profile data from Linkedin profile url or from a Profile file.\"\"\"\n",
    "    profile = open('./profiles/' + profile, 'r')\n",
    "    profile_content = profile.read()\n",
    "    return profile_content\n",
    "\n",
    "\n",
    "def extract_receiver_profile_information(profile_content) -> str:\n",
    "    \"\"\"Extract useful information from the profile content.\"\"\"\n",
    "\n",
    "    query = \"Get Profile details like name, organization and current role from the profile content.\"\n",
    "    model = ChatGroq(model=\"llama-3.1-8b-instant\")\n",
    "    response = model.invoke([\n",
    "            {\"role\": \"system\", \"content\": \"You are a helpful assistant that extracts profile details from the provided content.\"},\n",
    "            {\"role\": \"user\", \"content\": f\"Profile URL: {profile_content} \\n\\n Question: {query}\"}\n",
    "        ])\n",
    "    \n",
    "    return response.content\n",
    "\n",
    "def extract_candidate_profile_information(profile_content) -> str:\n",
    "    \"\"\"Extract useful information from the candidate profile content.\"\"\"\n",
    "\n",
    "    query = \"Get Profile details like name, organization, current role, experience and skill from the profile content.\"\n",
    "    model = ChatGroq(model=\"llama-3.1-8b-instant\")\n",
    "    response = model.invoke([\n",
    "            {\"role\": \"system\", \"content\": \"You are a helpful assistant that extracts profile details from the provided content.\"},\n",
    "            {\"role\": \"user\", \"content\": f\"Profile URL: {profile_content} \\n\\n Question: {query}\"}\n",
    "        ])\n",
    "    return response.content"
   ]
  },
  {
   "cell_type": "code",
   "execution_count": 23,
   "id": "86932f7f",
   "metadata": {},
   "outputs": [
    {
     "name": "stdout",
     "output_type": "stream",
     "text": [
      "Here are the extracted profile details:\n",
      "\n",
      "1. **Name:** Zach Johnson\n",
      "2. **Organization:**\n",
      "   - Mindera\n",
      "   - EPFL (Research Assistant)\n",
      "   - University of Lausanne\n",
      "3. **Current Role:**\n",
      "   - Co-Founder and Head of AI Product (at Mindera)\n",
      "   - Research Assistant (at EPFL)\n",
      "   \n",
      "   If you want to get the most recent role (current role), then it would be Co-Founder and Head of AI Product (at Mindera). \n",
      "\n",
      "   If you want the role during the time period of the profile, it would be Co-Founder and Head of AI Product.\n",
      "Based on the provided profile content, here are the extracted details:\n",
      "\n",
      "1. **Name:** John Doe\n",
      "2. **Current Organization:** UBS\n",
      "3. **Current Role:** Senior Software Engineer\n",
      "4. **Experience:**\n",
      "   - **UBS (2018 - 2025):** Designed and implemented multiple microservices using Java, Spring Boot, and AWS. Collaborated with cross-functional teams to deliver high-quality software solutions. Mentored junior engineers and contributed to the development of the company's technical strategy.\n",
      "   - **Easter Genetics (2015 - 2018):** Worked on a team to develop a genetic algorithm to predict the growth of a new species. Utilized C++ and OpenCV to analyze images and data. Contributed to the development of the company's software architecture and led the implementation of a new feature.\n",
      "   - **Research Assistant (ETH Zurich, 2012 - 2015):** Assisted a research group in developing algorithms for real-time video processing. Utilized MATLAB and C++ to implement and test new methods.\n",
      "5. **Skills:**\n",
      "   - Programming languages: Java, Python, C++\n",
      "   - Agile development methodologies and version control systems: Git\n",
      "   - Technical expertise: Object-oriented programming, data structures, software design patterns, microservices, Spring Boot, AWS\n",
      "   - Soft skills: Excellent communication skills, collaborative team player\n"
     ]
    }
   ],
   "source": [
    "CANDIDATE_PROFILE = 'profile2.txt'\n",
    "RECEIVER_PROFILE = 'profile1.txt'\n",
    "\n",
    "receiver_profile_content = get_profile_content(RECEIVER_PROFILE)\n",
    "receiver_profile_information = extract_receiver_profile_information(receiver_profile_content)\n",
    "\n",
    "candidate_profile_content = get_profile_content(CANDIDATE_PROFILE)\n",
    "candidate_profile_information = extract_candidate_profile_information(candidate_profile_content)\n",
    "\n",
    "print(receiver_profile_information)\n",
    "print(candidate_profile_information)"
   ]
  },
  {
   "cell_type": "code",
   "execution_count": 36,
   "id": "84507eed",
   "metadata": {},
   "outputs": [],
   "source": [
    "def write_a_referral_pitch(receiver_information, candidate_information):\n",
    "    \"\"\" Write a referral pitch based on the receiver's and candidate profile information.\"\"\"\n",
    "    query = '''\n",
    "    You are a candidate applying to a role.\n",
    "    Write a referral pitch email as if you (the candidate) are sending it directly to the receiver, from your own perspective.\n",
    "    The email should be written in the first person, as the candidate, and addressed to the receiver.\n",
    "    The receiver profile information and candidate profile information is provided to you and \n",
    "    the receiver information has the receiver name, organization, and current role.\n",
    "    The candidate profile information has the candidate name, organization, current role, experience, and skills.\n",
    "    \n",
    "    The pitch should be concise, professional, and highlight the candidate's skills and\n",
    "    experiences that make them a good fit for the position.\n",
    "\n",
    "    Keep the pitch message concise and to the point, under 100 words.\n",
    "    '''\n",
    "\n",
    "    model = ChatGroq(model=\"llama-3.1-8b-instant\")\n",
    "    response = model.invoke([\n",
    "            {\n",
    "                \"role\": \"system\", \n",
    "                \"content\": \"You are the Candidate trying to write a referral pitch for applying to an open position in the receiver's organization.\"\n",
    "            },\n",
    "            {\n",
    "                \"role\": \"user\", \n",
    "                \"content\": f\"Receiver Information: {receiver_information} \\n\\n Candidate Information: {candidate_information} \\n\\n Question: {query}\"\n",
    "            }\n",
    "        ])\n",
    "    \n",
    "    return response.content"
   ]
  },
  {
   "cell_type": "code",
   "execution_count": 37,
   "id": "592a5b51",
   "metadata": {},
   "outputs": [],
   "source": [
    "referral_pitch = write_a_referral_pitch(receiver_profile_information, candidate_profile_information)"
   ]
  },
  {
   "cell_type": "code",
   "execution_count": 38,
   "id": "2be61383",
   "metadata": {},
   "outputs": [
    {
     "name": "stdout",
     "output_type": "stream",
     "text": [
      "Subject: Referral for AI Product Position\n",
      "\n",
      "Dear Zach Johnson,\n",
      "\n",
      "I came across the AI Product position at Mindera and was impressed by the opportunity to leverage my technical expertise in AI and software engineering. As a Senior Software Engineer at UBS, I've designed and implemented multiple microservices using Java, Spring Boot, and AWS. My experience in object-oriented programming, data structures, and software design patterns will enable me to make a significant contribution to your team. I'd appreciate the chance to discuss how my skills align with the position and how I can contribute to the success of Mindera.\n",
      "\n",
      "Best regards,\n",
      "John Doe\n"
     ]
    }
   ],
   "source": [
    "print(referral_pitch)"
   ]
  },
  {
   "cell_type": "code",
   "execution_count": null,
   "id": "c2fa50c4",
   "metadata": {},
   "outputs": [],
   "source": []
  }
 ],
 "metadata": {
  "kernelspec": {
   "display_name": "AgenticLangraph (3.13.4)",
   "language": "python",
   "name": "python3"
  },
  "language_info": {
   "codemirror_mode": {
    "name": "ipython",
    "version": 3
   },
   "file_extension": ".py",
   "mimetype": "text/x-python",
   "name": "python",
   "nbconvert_exporter": "python",
   "pygments_lexer": "ipython3",
   "version": "3.13.4"
  }
 },
 "nbformat": 4,
 "nbformat_minor": 5
}
